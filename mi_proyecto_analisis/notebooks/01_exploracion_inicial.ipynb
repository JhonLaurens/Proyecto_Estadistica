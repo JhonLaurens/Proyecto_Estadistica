{
 "cells": [
  {
   "cell_type": "markdown",
   "id": "6c184678",
   "metadata": {},
   "source": [
    "# 01 - Exploración Inicial de Datos\n",
    "\n",
    "Este notebook realiza una primera exploración del archivo de encuesta de satisfacción. Se revisa la estructura, tipos de datos y primeras observaciones relevantes."
   ]
  },
  {
   "cell_type": "code",
   "execution_count": null,
   "id": "c9fcef1a",
   "metadata": {},
   "outputs": [],
   "source": [
    "# Librerías esenciales para análisis de datos\n",
    "import pandas as pd\n",
    "import numpy as np"
   ]
  },
  {
   "cell_type": "markdown",
   "id": "f9fbdc50",
   "metadata": {},
   "source": [
    "## Cargar datos crudos\n",
    "\n",
    "Se carga el archivo CSV original desde la carpeta `data/raw/`."
   ]
  },
  {
   "cell_type": "code",
   "execution_count": null,
   "id": "b90cfd6c",
   "metadata": {},
   "outputs": [],
   "source": [
    "df = pd.read_csv('../data/raw/Base encuesta de satisfacción.csv', sep=';')\n",
    "df.head()"
   ]
  },
  {
   "cell_type": "markdown",
   "id": "4b36fe6a",
   "metadata": {},
   "source": [
    "## Información general del DataFrame"
   ]
  },
  {
   "cell_type": "code",
   "execution_count": null,
   "id": "c3493d8b",
   "metadata": {},
   "outputs": [],
   "source": [
    "df.info()"
   ]
  },
  {
   "cell_type": "markdown",
   "id": "f249da60",
   "metadata": {},
   "source": [
    "## Estadísticas descriptivas básicas"
   ]
  },
  {
   "cell_type": "code",
   "execution_count": null,
   "id": "059a591b",
   "metadata": {},
   "outputs": [],
   "source": [
    "df.describe(include='all')"
   ]
  }
 ],
 "metadata": {
  "language_info": {
   "name": "python"
  }
 },
 "nbformat": 4,
 "nbformat_minor": 5
}
