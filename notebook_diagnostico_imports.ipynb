{
 "cells": [
  {
   "cell_type": "markdown",
   "id": "aebda559",
   "metadata": {},
   "source": [
    "# Diagnóstico y solución del error de importación y atributos en el proyecto\n",
    "\n",
    "Este notebook te guía para:\n",
    "- Diagnosticar por qué ocurre el error `AttributeError: module 'data_processor' has no attribute 'clean_and_prepare_data'`.\n",
    "- Verificar la estructura de módulos y atributos.\n",
    "- Solucionar el problema para que el pipeline funcione correctamente."
   ]
  },
  {
   "cell_type": "code",
   "execution_count": null,
   "id": "340ed0ec",
   "metadata": {},
   "outputs": [],
   "source": [
    "# 1. Verifica la existencia y contenido del archivo data_processor.py\n",
    "\n",
    "import os\n",
    "\n",
    "ruta_modulo = os.path.join(os.getcwd(), \"src\", \"data_processor.py\")\n",
    "print(\"¿Existe data_processor.py?\", os.path.exists(ruta_modulo))\n",
    "\n",
    "if os.path.exists(ruta_modulo):\n",
    "    with open(ruta_modulo, encoding=\"utf-8\") as f:\n",
    "        print(f.read())\n",
    "else:\n",
    "    print(\"El archivo src/data_processor.py no existe. Debes crearlo e implementar la función clean_and_prepare_data.\")"
   ]
  },
  {
   "cell_type": "markdown",
   "id": "406808b9",
   "metadata": {},
   "source": [
    "## 2. ¿Por qué ocurre el error?\n",
    "\n",
    "El error se debe a que el archivo `src/data_processor.py` existe pero **no contiene** la función `clean_and_prepare_data`, o el archivo está vacío.\n",
    "\n",
    "**Solución:**  \n",
    "Debes implementar la función `clean_and_prepare_data` en `src/data_processor.py`.  \n",
    "Ejemplo mínimo para que el pipeline avance:"
   ]
  },
  {
   "cell_type": "code",
   "execution_count": null,
   "id": "1145e3e1",
   "metadata": {},
   "outputs": [],
   "source": [
    "# src/data_processor.py\n",
    "def clean_and_prepare_data(df, config=None):\n",
    "    \"\"\"\n",
    "    Limpia y prepara el DataFrame de encuestas.\n",
    "    Esta es una versión mínima. Personalízala según tus necesidades.\n",
    "    \"\"\"\n",
    "    # Ejemplo: elimina filas completamente vacías y rellena NaN con vacío\n",
    "    df = df.dropna(how='all')\n",
    "    df = df.fillna('')\n",
    "    # Aquí puedes agregar más lógica de limpieza según el proyecto\n",
    "    return df"
   ]
  },
  {
   "cell_type": "markdown",
   "id": "6d51dd4c",
   "metadata": {},
   "source": [
    "## 3. ¿Cómo probar la solución?\n",
    "\n",
    "1. Copia el código de la celda anterior en `src/data_processor.py`.\n",
    "2. Ejecuta de nuevo `main.py`.\n",
    "3. Si necesitas lógica de limpieza avanzada, implementa más funciones dentro de ese archivo.\n",
    "\n",
    "**Recomendación:**  \n",
    "Asegúrate de que todos los módulos (`data_processor`, `visualizer`, etc.) tengan las funciones que el pipeline espera."
   ]
  },
  {
   "cell_type": "markdown",
   "id": "4689e616",
   "metadata": {},
   "source": [
    "## 4. Resumen de buenas prácticas para módulos\n",
    "\n",
    "- Cada archivo `.py` debe tener las funciones públicas que se usan desde `main.py`.\n",
    "- Si el archivo está vacío o solo tiene comentarios, Python lo importa pero no encuentra los atributos.\n",
    "- Si usas carpetas como paquetes, asegúrate de tener `__init__.py` en cada una.\n",
    "- Si cambias la estructura, ajusta las rutas en `sys.path` y las importaciones.\n",
    "\n",
    "**¡Con esto tu pipeline debería avanzar!**"
   ]
  }
 ],
 "metadata": {
  "language_info": {
   "name": "python"
  }
 },
 "nbformat": 4,
 "nbformat_minor": 5
}
