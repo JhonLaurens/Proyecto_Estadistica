{
 "cells": [
  {
   "cell_type": "markdown",
   "id": "f0c7ec68",
   "metadata": {},
   "source": [
    "# Análisis Exploratorio de Satisfacción Coltefinanciera\n",
    "\n",
    "Este notebook permite explorar y visualizar los datos de satisfacción, replicando el análisis profesional del PDF."
   ]
  },
  {
   "cell_type": "code",
   "execution_count": null,
   "id": "8cbd79fc",
   "metadata": {},
   "outputs": [],
   "source": [
    "import pandas as pd\n",
    "import numpy as np\n",
    "import matplotlib.pyplot as plt\n",
    "import seaborn as sns\n",
    "from scipy import stats\n",
    "\n",
    "sns.set_theme(style=\"whitegrid\")\n",
    "plt.rcParams['figure.figsize'] = (10, 6)\n",
    "\n",
    "df = pd.read_csv('../data/Base encuesta de satisfacción.csv', sep=';', encoding='utf-8-sig')\n",
    "print(df.head())\n",
    "df.info()"
   ]
  },
  {
   "cell_type": "code",
   "execution_count": null,
   "id": "0aaa4972",
   "metadata": {},
   "outputs": [],
   "source": [
    "# Limpieza\n",
    "cols_preguntas = ['PREGUNTA_1', 'PREGUNTA_2', 'PREGUNTA_3', 'PREGUNTA_4']\n",
    "for col in cols_preguntas:\n",
    "    df[col] = df[col].astype(str).str.replace(',', '.').astype(float)\n",
    "df['FECHA_ENCUESTA'] = pd.to_datetime(df['FECHA_ENCUESTA'], format='%d/%m/%Y', errors='coerce')\n",
    "df['AÑO_ENCUESTA'] = df['FECHA_ENCUESTA'].dt.year\n",
    "df['MES_ENCUESTA'] = df['FECHA_ENCUESTA'].dt.month\n",
    "df.isnull().sum()"
   ]
  },
  {
   "cell_type": "code",
   "execution_count": null,
   "id": "04be5350",
   "metadata": {},
   "outputs": [],
   "source": [
    "# Análisis univariado\n",
    "abs_freq = df['CIUDAD_AGENCIA'].value_counts()\n",
    "rel_freq = df['CIUDAD_AGENCIA'].value_counts(normalize=True) * 100\n",
    "print(pd.DataFrame({'Frec. Absoluta': abs_freq, 'Frec. Relativa (%)': rel_freq.round(2)}))\n",
    "sns.barplot(x=rel_freq.index, y=rel_freq.values, palette=\"viridis\")\n",
    "plt.title('Distribución Relativa de Encuestas por CIUDAD_AGENCIA')\n",
    "plt.ylabel('Frecuencia Relativa (%)')\n",
    "plt.xticks(rotation=45)\n",
    "plt.show()"
   ]
  }
 ],
 "metadata": {
  "language_info": {
   "name": "python"
  }
 },
 "nbformat": 4,
 "nbformat_minor": 5
}
