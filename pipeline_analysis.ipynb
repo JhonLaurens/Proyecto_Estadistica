{
 "cells": [
  {
   "cell_type": "markdown",
   "id": "ac06a5ac",
   "metadata": {},
   "source": [
    "# Ejecución del Pipeline de Análisis\n",
    "\n",
    "Este notebook reproduce la ejecución de `main.py` y documenta la salida generada, incluyendo las secciones de carga, procesamiento, visualización y análisis asistido por IA."
   ]
  },
  {
   "cell_type": "code",
   "execution_count": null,
   "id": "9343d5e5",
   "metadata": {},
   "outputs": [],
   "source": [
    "!python main.py"
   ]
  },
  {
   "cell_type": "markdown",
   "id": "0a1ced7f",
   "metadata": {},
   "source": [
    "## Salida de la consola\n",
    "\n",
    "# Pipeline de Análisis de Encuestas de Satisfacción  \n",
    "Configuración cargada desde: `c:\\repos\\Proyecto_Estadistica\\config.ini`  \n",
    "## 2. Cargando Datos  \n",
    "Abriendo diálogo para seleccionar archivo de datos...  \n",
    "<data_loader.Markdown object at 0x...>  \n",
    "<data_loader.Markdown object at 0x...>  \n",
    "<data_loader.Markdown object at 0x...>  \n",
    "HTML contenido disponible (se vería en un notebook)  \n",
    "Número total de filas: 1063, Número total de columnas: 20  \n",
    "Datos cargados del archivo: **Base encuesta de satisfacción.csv**  \n",
    "Dimensiones del DataFrame crudo: 1063 filas, 20 columnas.  \n",
    "## 3. Procesando y Limpiando Datos  \n",
    "Dimensiones del DataFrame procesado: 1063 filas, 21 columnas.  \n",
    "## 4. Análisis Estadístico y Visualizaciones  \n",
    "### 4.2 Calificación Promedio por Pregunta Específica  \n",
    "…FutureWarning sobre `palette`…  \n",
    "### 4.4 Matriz de Correlación  \n",
    "### 4.5 Análisis de Comentarios Abiertos (PREGUNTA 5 LIMPIA)  \n",
    "No hay palabras con las que generar el word cloud.  \n",
    "## 5. Análisis Asistido por IA (Deshabilitado)  \n",
    "Para habilitar el análisis con IA, edita `config.ini` y establece  \n",
    "`EnableAIAnalysis = True` y configura tu `AIApiKey`.  \n",
    "---  \n",
    "## Fin del Análisis"
   ]
  }
 ],
 "metadata": {
  "language_info": {
   "name": "python"
  }
 },
 "nbformat": 4,
 "nbformat_minor": 5
}
