{
 "cells": [
  {
   "cell_type": "markdown",
   "id": "d67ddfad",
   "metadata": {},
   "source": [
    "# Plan de Refactorización Profesional\n",
    "\n",
    "Este notebook describe, por área, qué mejorar y cómo llevar el proyecto de análisis de encuestas a un estándar profesional: más modular, robusto, mantenible y escalable."
   ]
  },
  {
   "cell_type": "markdown",
   "id": "d46bcaf7",
   "metadata": {},
   "source": [
    "## 1. Estructura y Modularidad\n",
    "\n",
    "Diagnóstico:  \n",
    "- Módulos dispersos (`file_loader.py` vs `src/data_loader.py`, `untitled5.py` no integrado).  \n",
    "\n",
    "Recomendaciones:  \n",
    "- Eliminar o migrar `untitled5.py` a funciones de `main.py` o a un nuevo módulo `src/pipeline.py`.  \n",
    "- Unificar `file_loader.py` y `src/data_loader.py` en `src/data_loader.py`.  \n",
    "- Adoptar un layout tipo:\n",
    "  ```\n",
    "  Proyecto_Estadistica/\n",
    "  ├─ src/\n",
    "  │  ├─ __init__.py\n",
    "  │  ├─ data_loader.py\n",
    "  │  ├─ data_processor.py\n",
    "  │  ├─ visualizer.py\n",
    "  │  └─ ai_analyzer.py\n",
    "  ├─ utils/\n",
    "  ├─ main.py\n",
    "  └─ tests/\n",
    "  ```\n",
    "- Modularizar cada paso en funciones o clases (p.ej. `class DataLoader`, `class DataProcessor`)."
   ]
  },
  {
   "cell_type": "markdown",
   "id": "02a63cbb",
   "metadata": {},
   "source": [
    "## 2. Carga y Validación de Datos (data_loader.py)\n",
    "\n",
    "Diagnóstico:  \n",
    "- Depende de Tkinter, poca validación de esquema.  \n",
    "\n",
    "Recomendaciones:  \n",
    "- Reemplazar selección gráfica por parámetro CLI o env var:  \n",
    "  ```python\n",
    "  def load_data(path=None):\n",
    "      if not path:\n",
    "          path = os.getenv(\"DATA_PATH\") or sys.argv[1]\n",
    "      ...\n",
    "  ```\n",
    "- Usar `pydantic` o `pandera` para validar columnas y tipos al leer CSV/Excel.  \n",
    "- Registrar cada paso con `logging` (`logger.info(\"Leyendo archivo %s\", path)`).  \n",
    "- Soportar iterables de datos (JSON, SQL) en el mismo módulo."
   ]
  },
  {
   "cell_type": "markdown",
   "id": "6c070895",
   "metadata": {},
   "source": [
    "## 3. Procesamiento y Limpieza de Datos (data_processor.py)\n",
    "\n",
    "Diagnóstico:  \n",
    "- Limpieza básica (NaN, fechas, colas).  \n",
    "\n",
    "Recomendaciones:  \n",
    "- Usar pipelines de pandas o `sklearn.Pipeline` para encadenar transformaciones.  \n",
    "- Añadir validación estadística (detección de outliers con IQR o Z-score).  \n",
    "- Imputación avanzada (por agrupamiento o modelos simples).  \n",
    "- Extraer features: edad del encuestado, antigüedad, NPS de PREGUNTA_2.  \n",
    "- Normalizar/limpiar texto con `spaCy` o `nltk` (lemmatización, stopwords)."
   ]
  },
  {
   "cell_type": "markdown",
   "id": "bc7b105f",
   "metadata": {},
   "source": [
    "## 4. Análisis Estadístico y Visualizaciones (visualizer.py)\n",
    "\n",
    "Diagnóstico:  \n",
    "- Gráficos estáticos con matplotlib/seaborn.  \n",
    "\n",
    "Recomendaciones:  \n",
    "- Migrar a `plotly.express` para interactividad; empaquetar en un dashboard con `Dash` o `Streamlit`.  \n",
    "- Centralizar estilos (tema, paleta) en utils.  \n",
    "- Añadir análisis descriptivo avanzado: distribuciones por segmento, test de hipótesis (t-test, ANOVA).  \n",
    "- Documentar cada función con `docstring` y ejemplos."
   ]
  },
  {
   "cell_type": "markdown",
   "id": "0849165a",
   "metadata": {},
   "source": [
    "## 5. Integración con IA (ai_analyzer.py)\n",
    "\n",
    "Diagnóstico:  \n",
    "- Prompt muy largo, sin manejo de errores.  \n",
    "\n",
    "Recomendaciones:  \n",
    "- Definir plantillas de prompt con `jinja2` y secciones opcionales.  \n",
    "- Implementar retries y backoff con `tenacity`.  \n",
    "- Procesar respuestas con validación JSON o esquema (p.ej. extrayendo listados de insights).  \n",
    "- Permitir al usuario elegir tipo de informe (resumen, temas, anomalías) vía config."
   ]
  },
  {
   "cell_type": "markdown",
   "id": "7e84f618",
   "metadata": {},
   "source": [
    "## 6. Configuración (config_utils.py y config.ini)\n",
    "\n",
    "Diagnóstico:  \n",
    "- Config plano, API keys en texto claro.  \n",
    "\n",
    "Recomendaciones:  \n",
    "- Cargar secrets desde variables de entorno (p.ej. `AIApiKey`).  \n",
    "- Soportar múltiples entornos (dev/prod) con archivos `config.dev.ini`, `config.prod.ini`.  \n",
    "- Usar `python-dotenv` para entornos locales."
   ]
  },
  {
   "cell_type": "markdown",
   "id": "8aaa2a82",
   "metadata": {},
   "source": [
    "## 7. Manejo de Errores y Logging\n",
    "\n",
    "Diagnóstico:  \n",
    "- Prints y exits puntuales.  \n",
    "\n",
    "Recomendaciones:  \n",
    "- Configurar `logging` con niveles y handlers (archivo, consola).  \n",
    "- Definir excepciones propias (`class DataLoadError(Exception)`).  \n",
    "- Capturar y loggear errores en cada etapa del pipeline sin abortar todo (o con retries)."
   ]
  },
  {
   "cell_type": "markdown",
   "id": "8aa086f6",
   "metadata": {},
   "source": [
    "## 8. Calidad de Código y Mantenibilidad\n",
    "\n",
    "Diagnóstico:  \n",
    "- Código sin typing, estilo mixto.  \n",
    "\n",
    "Recomendaciones:  \n",
    "- Adoptar PEP-8 y `flake8`, `black`.  \n",
    "- Añadir `mypy` para tipado estático.  \n",
    "- Mantener docstrings en formato Google o NumPy.  \n",
    "- Dividir funciones >50 líneas."
   ]
  },
  {
   "cell_type": "markdown",
   "id": "ed356997",
   "metadata": {},
   "source": [
    "## 9. Documentación (README.md)\n",
    "\n",
    "Diagnóstico:  \n",
    "- Mezcla de notas de campo y guía de usuario.  \n",
    "\n",
    "Recomendaciones:  \n",
    "- Reestructurar en secciones:  \n",
    "  1. Descripción  \n",
    "  2. Instalación y requisitos  \n",
    "  3. Estructura del proyecto  \n",
    "  4. Uso: CLI y ejemplos  \n",
    "  5. Configuración  \n",
    "  6. Desarrollo y testing  \n",
    "  7. Contribuciones  \n",
    "  8. Licencia"
   ]
  },
  {
   "cell_type": "markdown",
   "id": "78e9a55a",
   "metadata": {},
   "source": [
    "## 10. Testing\n",
    "\n",
    "Diagnóstico:  \n",
    "- Sin tests.  \n",
    "\n",
    "Recomendaciones:  \n",
    "- Escribir tests unitarios con `pytest` para cada módulo:  \n",
    "  - Carga de datos (mock CSV).  \n",
    "  - Limpieza de datos (DataFrame de prueba).  \n",
    "  - Visualizaciones (funciones devuelven figuras).  \n",
    "  - IA (mock de API).  \n",
    "- Añadir CI (GitHub Actions) para ejecutar tests y linters."
   ]
  }
 ],
 "metadata": {
  "language_info": {
   "name": "python"
  }
 },
 "nbformat": 4,
 "nbformat_minor": 5
}
